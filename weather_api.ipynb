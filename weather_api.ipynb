{
 "cells": [
  {
   "cell_type": "code",
   "execution_count": 1,
   "metadata": {},
   "outputs": [],
   "source": [
    "import pandas as pd\n",
    "import numpy as np\n",
    "import requests"
   ]
  },
  {
   "cell_type": "code",
   "execution_count": 2,
   "metadata": {},
   "outputs": [],
   "source": [
    "data=pd.read_csv(r'C:\\Users\\anuvi\\OneDrive\\Desktop\\Walmart.csv')"
   ]
  },
  {
   "cell_type": "code",
   "execution_count": 3,
   "metadata": {},
   "outputs": [
    {
     "data": {
      "text/html": [
       "<div>\n",
       "<style scoped>\n",
       "    .dataframe tbody tr th:only-of-type {\n",
       "        vertical-align: middle;\n",
       "    }\n",
       "\n",
       "    .dataframe tbody tr th {\n",
       "        vertical-align: top;\n",
       "    }\n",
       "\n",
       "    .dataframe thead th {\n",
       "        text-align: right;\n",
       "    }\n",
       "</style>\n",
       "<table border=\"1\" class=\"dataframe\">\n",
       "  <thead>\n",
       "    <tr style=\"text-align: right;\">\n",
       "      <th></th>\n",
       "      <th>Row ID</th>\n",
       "      <th>Postal Code</th>\n",
       "      <th>Sales</th>\n",
       "      <th>Quantity</th>\n",
       "      <th>Discount</th>\n",
       "      <th>Profit</th>\n",
       "    </tr>\n",
       "  </thead>\n",
       "  <tbody>\n",
       "    <tr>\n",
       "      <th>count</th>\n",
       "      <td>3203.000000</td>\n",
       "      <td>3203.000000</td>\n",
       "      <td>3203.000000</td>\n",
       "      <td>3203.000000</td>\n",
       "      <td>3203.000000</td>\n",
       "      <td>3203.000000</td>\n",
       "    </tr>\n",
       "    <tr>\n",
       "      <th>mean</th>\n",
       "      <td>4986.524508</td>\n",
       "      <td>91707.696534</td>\n",
       "      <td>226.493233</td>\n",
       "      <td>3.829535</td>\n",
       "      <td>0.109335</td>\n",
       "      <td>33.849032</td>\n",
       "    </tr>\n",
       "    <tr>\n",
       "      <th>std</th>\n",
       "      <td>2848.758232</td>\n",
       "      <td>5202.135433</td>\n",
       "      <td>524.876877</td>\n",
       "      <td>2.261270</td>\n",
       "      <td>0.146861</td>\n",
       "      <td>174.109081</td>\n",
       "    </tr>\n",
       "    <tr>\n",
       "      <th>min</th>\n",
       "      <td>3.000000</td>\n",
       "      <td>59102.000000</td>\n",
       "      <td>0.990000</td>\n",
       "      <td>1.000000</td>\n",
       "      <td>0.000000</td>\n",
       "      <td>-3399.980000</td>\n",
       "    </tr>\n",
       "    <tr>\n",
       "      <th>25%</th>\n",
       "      <td>2508.000000</td>\n",
       "      <td>90032.000000</td>\n",
       "      <td>19.440000</td>\n",
       "      <td>2.000000</td>\n",
       "      <td>0.000000</td>\n",
       "      <td>3.852000</td>\n",
       "    </tr>\n",
       "    <tr>\n",
       "      <th>50%</th>\n",
       "      <td>4988.000000</td>\n",
       "      <td>92105.000000</td>\n",
       "      <td>60.840000</td>\n",
       "      <td>3.000000</td>\n",
       "      <td>0.000000</td>\n",
       "      <td>11.166400</td>\n",
       "    </tr>\n",
       "    <tr>\n",
       "      <th>75%</th>\n",
       "      <td>7406.500000</td>\n",
       "      <td>94513.000000</td>\n",
       "      <td>215.809000</td>\n",
       "      <td>5.000000</td>\n",
       "      <td>0.200000</td>\n",
       "      <td>33.000400</td>\n",
       "    </tr>\n",
       "    <tr>\n",
       "      <th>max</th>\n",
       "      <td>9994.000000</td>\n",
       "      <td>99301.000000</td>\n",
       "      <td>13999.960000</td>\n",
       "      <td>14.000000</td>\n",
       "      <td>0.700000</td>\n",
       "      <td>6719.980800</td>\n",
       "    </tr>\n",
       "  </tbody>\n",
       "</table>\n",
       "</div>"
      ],
      "text/plain": [
       "            Row ID   Postal Code         Sales     Quantity     Discount  \\\n",
       "count  3203.000000   3203.000000   3203.000000  3203.000000  3203.000000   \n",
       "mean   4986.524508  91707.696534    226.493233     3.829535     0.109335   \n",
       "std    2848.758232   5202.135433    524.876877     2.261270     0.146861   \n",
       "min       3.000000  59102.000000      0.990000     1.000000     0.000000   \n",
       "25%    2508.000000  90032.000000     19.440000     2.000000     0.000000   \n",
       "50%    4988.000000  92105.000000     60.840000     3.000000     0.000000   \n",
       "75%    7406.500000  94513.000000    215.809000     5.000000     0.200000   \n",
       "max    9994.000000  99301.000000  13999.960000    14.000000     0.700000   \n",
       "\n",
       "            Profit  \n",
       "count  3203.000000  \n",
       "mean     33.849032  \n",
       "std     174.109081  \n",
       "min   -3399.980000  \n",
       "25%       3.852000  \n",
       "50%      11.166400  \n",
       "75%      33.000400  \n",
       "max    6719.980800  "
      ]
     },
     "execution_count": 3,
     "metadata": {},
     "output_type": "execute_result"
    }
   ],
   "source": [
    "data.describe()"
   ]
  },
  {
   "cell_type": "code",
   "execution_count": 4,
   "metadata": {},
   "outputs": [
    {
     "name": "stdout",
     "output_type": "stream",
     "text": [
      "<class 'pandas.core.frame.DataFrame'>\n",
      "RangeIndex: 3203 entries, 0 to 3202\n",
      "Data columns (total 21 columns):\n",
      " #   Column         Non-Null Count  Dtype  \n",
      "---  ------         --------------  -----  \n",
      " 0   Row ID         3203 non-null   int64  \n",
      " 1   Order ID       3203 non-null   object \n",
      " 2   Order Date     3203 non-null   object \n",
      " 3   Ship Date      3203 non-null   object \n",
      " 4   Ship Mode      3203 non-null   object \n",
      " 5   Customer ID    3203 non-null   object \n",
      " 6   Customer Name  3203 non-null   object \n",
      " 7   Segment        3203 non-null   object \n",
      " 8   Country        3203 non-null   object \n",
      " 9   City           3203 non-null   object \n",
      " 10  State          3203 non-null   object \n",
      " 11  Postal Code    3203 non-null   int64  \n",
      " 12  Region         3203 non-null   object \n",
      " 13  Product ID     3203 non-null   object \n",
      " 14  Category       3203 non-null   object \n",
      " 15  Sub-Category   3203 non-null   object \n",
      " 16  Product Name   3203 non-null   object \n",
      " 17  Sales          3203 non-null   float64\n",
      " 18  Quantity       3203 non-null   int64  \n",
      " 19  Discount       3203 non-null   float64\n",
      " 20  Profit         3203 non-null   float64\n",
      "dtypes: float64(3), int64(3), object(15)\n",
      "memory usage: 525.6+ KB\n"
     ]
    }
   ],
   "source": [
    "data.info()"
   ]
  },
  {
   "cell_type": "code",
   "execution_count": 5,
   "metadata": {},
   "outputs": [
    {
     "data": {
      "text/plain": [
       "Row ID           0\n",
       "Order ID         0\n",
       "Order Date       0\n",
       "Ship Date        0\n",
       "Ship Mode        0\n",
       "Customer ID      0\n",
       "Customer Name    0\n",
       "Segment          0\n",
       "Country          0\n",
       "City             0\n",
       "State            0\n",
       "Postal Code      0\n",
       "Region           0\n",
       "Product ID       0\n",
       "Category         0\n",
       "Sub-Category     0\n",
       "Product Name     0\n",
       "Sales            0\n",
       "Quantity         0\n",
       "Discount         0\n",
       "Profit           0\n",
       "dtype: int64"
      ]
     },
     "execution_count": 5,
     "metadata": {},
     "output_type": "execute_result"
    }
   ],
   "source": [
    "data.isna().sum()"
   ]
  },
  {
   "cell_type": "code",
   "execution_count": 6,
   "metadata": {},
   "outputs": [],
   "source": [
    "for columns in data:\n",
    "    if data[columns] is None:\n",
    "        data[columns]=data[columns].mean()\n"
   ]
  }
 ],
 "metadata": {
  "kernelspec": {
   "display_name": "Python 3",
   "language": "python",
   "name": "python3"
  },
  "language_info": {
   "codemirror_mode": {
    "name": "ipython",
    "version": 3
   },
   "file_extension": ".py",
   "mimetype": "text/x-python",
   "name": "python",
   "nbconvert_exporter": "python",
   "pygments_lexer": "ipython3",
   "version": "3.12.2"
  }
 },
 "nbformat": 4,
 "nbformat_minor": 2
}
